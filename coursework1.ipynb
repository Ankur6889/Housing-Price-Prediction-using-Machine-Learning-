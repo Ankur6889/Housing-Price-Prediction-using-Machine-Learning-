{
 "cells": [
  {
   "cell_type": "markdown",
   "metadata": {},
   "source": [
    "# Learning Curves"
   ]
  },
  {
   "cell_type": "code",
   "execution_count": 4,
   "metadata": {},
   "outputs": [],
   "source": [
    "import pandas as pd\n",
    "import numpy as np\n",
    "import matplotlib.pyplot as plt\n",
    "from sklearn.linear_model import LinearRegression\n",
    "from sklearn.model_selection import learning_curve"
   ]
  },
  {
   "cell_type": "code",
   "execution_count": 5,
   "metadata": {},
   "outputs": [],
   "source": [
    "coursework=pd.read_csv(r\"C:\\Users\\tiwar\\OneDrive\\Desktop\\CourseWork_cleaned_data.csv\")"
   ]
  },
  {
   "cell_type": "code",
   "execution_count": 6,
   "metadata": {},
   "outputs": [
    {
     "data": {
      "text/html": [
       "<div>\n",
       "<style scoped>\n",
       "    .dataframe tbody tr th:only-of-type {\n",
       "        vertical-align: middle;\n",
       "    }\n",
       "\n",
       "    .dataframe tbody tr th {\n",
       "        vertical-align: top;\n",
       "    }\n",
       "\n",
       "    .dataframe thead th {\n",
       "        text-align: right;\n",
       "    }\n",
       "</style>\n",
       "<table border=\"1\" class=\"dataframe\">\n",
       "  <thead>\n",
       "    <tr style=\"text-align: right;\">\n",
       "      <th></th>\n",
       "      <th>MSSubClass_N</th>\n",
       "      <th>MSZoning_N</th>\n",
       "      <th>LotFrontage_log</th>\n",
       "      <th>LotArea_log</th>\n",
       "      <th>LotShape_N</th>\n",
       "      <th>HouseStyle_N</th>\n",
       "      <th>OverallQual</th>\n",
       "      <th>OverallCond</th>\n",
       "      <th>Foundation_N</th>\n",
       "      <th>BsmtQual_N</th>\n",
       "      <th>...</th>\n",
       "      <th>Heating_N</th>\n",
       "      <th>HeatingQC_N</th>\n",
       "      <th>SaleCondition_N</th>\n",
       "      <th>GarageCond_N</th>\n",
       "      <th>GarageQual_N</th>\n",
       "      <th>FireplaceQu_N</th>\n",
       "      <th>Electrical_N</th>\n",
       "      <th>KitchenQual_N</th>\n",
       "      <th>CentralAir_N</th>\n",
       "      <th>sales_log</th>\n",
       "    </tr>\n",
       "  </thead>\n",
       "  <tbody>\n",
       "    <tr>\n",
       "      <th>0</th>\n",
       "      <td>5</td>\n",
       "      <td>5</td>\n",
       "      <td>4.174387</td>\n",
       "      <td>9.041922</td>\n",
       "      <td>0</td>\n",
       "      <td>3</td>\n",
       "      <td>7</td>\n",
       "      <td>5</td>\n",
       "      <td>2</td>\n",
       "      <td>5</td>\n",
       "      <td>...</td>\n",
       "      <td>2</td>\n",
       "      <td>1</td>\n",
       "      <td>1</td>\n",
       "      <td>3</td>\n",
       "      <td>3</td>\n",
       "      <td>0</td>\n",
       "      <td>1</td>\n",
       "      <td>2</td>\n",
       "      <td>1</td>\n",
       "      <td>12.247694</td>\n",
       "    </tr>\n",
       "    <tr>\n",
       "      <th>1</th>\n",
       "      <td>0</td>\n",
       "      <td>5</td>\n",
       "      <td>4.382027</td>\n",
       "      <td>9.169518</td>\n",
       "      <td>0</td>\n",
       "      <td>0</td>\n",
       "      <td>6</td>\n",
       "      <td>8</td>\n",
       "      <td>1</td>\n",
       "      <td>5</td>\n",
       "      <td>...</td>\n",
       "      <td>2</td>\n",
       "      <td>1</td>\n",
       "      <td>1</td>\n",
       "      <td>3</td>\n",
       "      <td>3</td>\n",
       "      <td>3</td>\n",
       "      <td>1</td>\n",
       "      <td>3</td>\n",
       "      <td>1</td>\n",
       "      <td>12.109011</td>\n",
       "    </tr>\n",
       "    <tr>\n",
       "      <th>2</th>\n",
       "      <td>5</td>\n",
       "      <td>5</td>\n",
       "      <td>4.219508</td>\n",
       "      <td>9.328123</td>\n",
       "      <td>1</td>\n",
       "      <td>3</td>\n",
       "      <td>7</td>\n",
       "      <td>5</td>\n",
       "      <td>2</td>\n",
       "      <td>5</td>\n",
       "      <td>...</td>\n",
       "      <td>2</td>\n",
       "      <td>1</td>\n",
       "      <td>1</td>\n",
       "      <td>3</td>\n",
       "      <td>3</td>\n",
       "      <td>3</td>\n",
       "      <td>1</td>\n",
       "      <td>2</td>\n",
       "      <td>1</td>\n",
       "      <td>12.317167</td>\n",
       "    </tr>\n",
       "    <tr>\n",
       "      <th>3</th>\n",
       "      <td>6</td>\n",
       "      <td>5</td>\n",
       "      <td>4.094345</td>\n",
       "      <td>9.164296</td>\n",
       "      <td>1</td>\n",
       "      <td>3</td>\n",
       "      <td>7</td>\n",
       "      <td>5</td>\n",
       "      <td>0</td>\n",
       "      <td>4</td>\n",
       "      <td>...</td>\n",
       "      <td>2</td>\n",
       "      <td>2</td>\n",
       "      <td>6</td>\n",
       "      <td>3</td>\n",
       "      <td>3</td>\n",
       "      <td>4</td>\n",
       "      <td>1</td>\n",
       "      <td>2</td>\n",
       "      <td>1</td>\n",
       "      <td>11.849398</td>\n",
       "    </tr>\n",
       "    <tr>\n",
       "      <th>4</th>\n",
       "      <td>5</td>\n",
       "      <td>5</td>\n",
       "      <td>4.430817</td>\n",
       "      <td>9.565214</td>\n",
       "      <td>1</td>\n",
       "      <td>3</td>\n",
       "      <td>8</td>\n",
       "      <td>5</td>\n",
       "      <td>2</td>\n",
       "      <td>5</td>\n",
       "      <td>...</td>\n",
       "      <td>2</td>\n",
       "      <td>1</td>\n",
       "      <td>1</td>\n",
       "      <td>3</td>\n",
       "      <td>3</td>\n",
       "      <td>3</td>\n",
       "      <td>1</td>\n",
       "      <td>2</td>\n",
       "      <td>1</td>\n",
       "      <td>12.429216</td>\n",
       "    </tr>\n",
       "  </tbody>\n",
       "</table>\n",
       "<p>5 rows × 21 columns</p>\n",
       "</div>"
      ],
      "text/plain": [
       "   MSSubClass_N  MSZoning_N  LotFrontage_log  LotArea_log  LotShape_N  \\\n",
       "0             5           5         4.174387     9.041922           0   \n",
       "1             0           5         4.382027     9.169518           0   \n",
       "2             5           5         4.219508     9.328123           1   \n",
       "3             6           5         4.094345     9.164296           1   \n",
       "4             5           5         4.430817     9.565214           1   \n",
       "\n",
       "   HouseStyle_N  OverallQual  OverallCond  Foundation_N  BsmtQual_N  ...  \\\n",
       "0             3            7            5             2           5  ...   \n",
       "1             0            6            8             1           5  ...   \n",
       "2             3            7            5             2           5  ...   \n",
       "3             3            7            5             0           4  ...   \n",
       "4             3            8            5             2           5  ...   \n",
       "\n",
       "   Heating_N  HeatingQC_N  SaleCondition_N  GarageCond_N  GarageQual_N  \\\n",
       "0          2            1                1             3             3   \n",
       "1          2            1                1             3             3   \n",
       "2          2            1                1             3             3   \n",
       "3          2            2                6             3             3   \n",
       "4          2            1                1             3             3   \n",
       "\n",
       "   FireplaceQu_N  Electrical_N  KitchenQual_N  CentralAir_N  sales_log  \n",
       "0              0             1              2             1  12.247694  \n",
       "1              3             1              3             1  12.109011  \n",
       "2              3             1              2             1  12.317167  \n",
       "3              4             1              2             1  11.849398  \n",
       "4              3             1              2             1  12.429216  \n",
       "\n",
       "[5 rows x 21 columns]"
      ]
     },
     "execution_count": 6,
     "metadata": {},
     "output_type": "execute_result"
    }
   ],
   "source": [
    "coursework.head()"
   ]
  },
  {
   "cell_type": "code",
   "execution_count": 7,
   "metadata": {},
   "outputs": [],
   "source": [
    "X=[\"MSSubClass_N\",\"MSZoning_N\",\"LotFrontage_log\",\"LotArea_log\",\"LotShape_N\",\"HouseStyle_N\",\"OverallQual\",\"OverallCond\",\"Foundation_N\",\"BsmtQual_N\",\"BsmtCond_N\",\"Heating_N\",\"HeatingQC_N\",\"SaleCondition_N\",\"GarageCond_N\",\"GarageQual_N\",\"FireplaceQu_N\",\"Electrical_N\",\"KitchenQual_N\",\"CentralAir_N\"]"
   ]
  },
  {
   "cell_type": "code",
   "execution_count": 8,
   "metadata": {},
   "outputs": [],
   "source": [
    "y='sales_log'"
   ]
  },
  {
   "cell_type": "code",
   "execution_count": 9,
   "metadata": {},
   "outputs": [],
   "source": [
    "train_sizes = range(1,1200,50)"
   ]
  },
  {
   "cell_type": "code",
   "execution_count": 11,
   "metadata": {},
   "outputs": [],
   "source": [
    "\n",
    "train_sizes, train_scores, test_scores = learning_curve(estimator= LinearRegression(),\n",
    "                                               X=coursework[X], y=coursework[y], cv=10, scoring='neg_root_mean_squared_error',\n",
    "                                               # 50 different sizes of the training set\n",
    "                                               train_sizes=train_sizes)"
   ]
  },
  {
   "cell_type": "code",
   "execution_count": 12,
   "metadata": {},
   "outputs": [],
   "source": [
    "train_mean = np.mean(-train_scores, axis=1)\n",
    "train_std = np.std(-train_scores, axis=1)"
   ]
  },
  {
   "cell_type": "code",
   "execution_count": 13,
   "metadata": {},
   "outputs": [],
   "source": [
    "test_mean = np.mean(-test_scores, axis=1)\n",
    "test_std = np.std(-test_scores, axis=1)"
   ]
  },
  {
   "cell_type": "code",
   "execution_count": 14,
   "metadata": {},
   "outputs": [
    {
     "data": {
      "image/png": "[encoded data removed]",
      "text/plain": [
       "<Figure size 720x720 with 1 Axes>"
      ]
     },
     "metadata": {
      "needs_background": "light"
     },
     "output_type": "display_data"
    }
   ],
   "source": [
    "# Drawing lines\n",
    "plt.subplots(1, figsize=(10,10) )\n",
    "plt.plot(train_sizes, train_mean, '--', color=\"#110011\",  label=\"Training score\")\n",
    "plt.plot(train_sizes, test_mean, color=\"#834651\", label=\"Cross-validation score\")\n",
    "\n",
    "# Drawing bands\n",
    "plt.fill_between(train_sizes, train_mean - train_std, train_mean + train_std, color=\"#DDDDDD\")\n",
    "plt.fill_between(train_sizes, test_mean - test_std, test_mean + test_std, color=\"#DDDDDD\")\n",
    "\n",
    "# Creating plot\n",
    "plt.title(\"Learning Curve\")\n",
    "plt.xlabel(\"Training Set Size\"), plt.ylabel(\"RMSE Score\"), plt.legend(loc=\"best\")\n",
    "plt.tight_layout();\n",
    "plt.show()\n"
   ]
  },
  {
   "cell_type": "code",
   "execution_count": null,
   "metadata": {},
   "outputs": [],
   "source": []
  },
  {
   "cell_type": "code",
   "execution_count": null,
   "metadata": {},
   "outputs": [],
   "source": []
  }
 ],
 "metadata": {
  "kernelspec": {
   "display_name": "Python 3",
   "language": "python",
   "name": "python3"
  },
  "language_info": {
   "codemirror_mode": {
    "name": "ipython",
    "version": 3
   },
   "file_extension": ".py",
   "mimetype": "text/x-python",
   "name": "python",
   "nbconvert_exporter": "python",
   "pygments_lexer": "ipython3",
   "version": "3.8.8"
  }
 },
 "nbformat": 4,
 "nbformat_minor": 4
}
